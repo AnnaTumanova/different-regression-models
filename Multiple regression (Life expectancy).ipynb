{
 "cells": [
  {
   "cell_type": "markdown",
   "metadata": {},
   "source": [
    "### Import librariest that nesessary for the data validation"
   ]
  },
  {
   "cell_type": "code",
   "execution_count": 1,
   "metadata": {},
   "outputs": [],
   "source": [
    "import pandas as pd\n",
    "import matplotlib.pyplot as plt\n",
    "import numpy as np"
   ]
  },
  {
   "cell_type": "markdown",
   "metadata": {},
   "source": [
    "#### Cleaning the data and extracting the csv file"
   ]
  },
  {
   "cell_type": "code",
   "execution_count": 17,
   "metadata": {},
   "outputs": [],
   "source": [
    "dataset=pd.read_csv(\"Life_Expectancy.csv\")\n",
    "df=dataset.dropna()\n",
    "indepX=df.iloc[:,:-1]\n",
    "depY=df.iloc[:,20]"
   ]
  },
  {
   "cell_type": "code",
   "execution_count": 18,
   "metadata": {
    "collapsed": true
   },
   "outputs": [
    {
     "name": "stderr",
     "output_type": "stream",
     "text": [
      "C:\\Users\\Anna\\Anaconda3\\lib\\site-packages\\sklearn\\preprocessing\\_encoders.py:368: FutureWarning: The handling of integer data will change in version 0.22. Currently, the categories are determined based on the range [0, max(values)], while in the future they will be determined based on the unique values.\n",
      "If you want the future behaviour and silence this warning, you can specify \"categories='auto'\".\n",
      "In case you used a LabelEncoder before this OneHotEncoder to convert the categories to integers, then you can now use the OneHotEncoder directly.\n",
      "  warnings.warn(msg, FutureWarning)\n",
      "C:\\Users\\Anna\\Anaconda3\\lib\\site-packages\\sklearn\\preprocessing\\_encoders.py:390: DeprecationWarning: The 'categorical_features' keyword is deprecated in version 0.20 and will be removed in 0.22. You can use the ColumnTransformer instead.\n",
      "  \"use the ColumnTransformer instead.\", DeprecationWarning)\n"
     ]
    }
   ],
   "source": [
    "# Encoding Categorical Variable (Country --> \"Afghanistan\", \"Albania\", \"Algeria\")\n",
    "from sklearn.preprocessing import LabelEncoder, OneHotEncoder\n",
    "X_encoder = LabelEncoder()\n",
    "indepX.loc[:,\"Country\"] = X_encoder.fit_transform(indepX.loc[:,\"Country\"])\n",
    "onehotencoder = OneHotEncoder(categorical_features = [0])\n",
    "indepX = onehotencoder.fit_transform(indepX).toarray()"
   ]
  },
  {
   "cell_type": "code",
   "execution_count": 19,
   "metadata": {},
   "outputs": [],
   "source": [
    "# Splitting Data\n",
    "from sklearn.model_selection import train_test_split\n",
    "indepX_train, indepX_test, depY_train, depY_test = train_test_split(indepX,depY, test_size = 0.2, \n",
    "                                                                                random_state = 0)"
   ]
  },
  {
   "cell_type": "code",
   "execution_count": 20,
   "metadata": {},
   "outputs": [],
   "source": [
    "#Fitting the training data to the model\n",
    "from sklearn.linear_model import LinearRegression\n",
    "MLR=LinearRegression()\n",
    "MLR=MLR.fit(indepX_train,depY_train)"
   ]
  },
  {
   "cell_type": "code",
   "execution_count": 24,
   "metadata": {},
   "outputs": [
    {
     "name": "stdout",
     "output_type": "stream",
     "text": [
      "[73.05901237 74.267974   73.60385981 59.2095598  57.31718327 75.18069712\n",
      " 73.38501431 56.84134657 74.40218301]\n",
      "30    73.6\n",
      "37    74.7\n",
      "27    73.0\n",
      "4     59.2\n",
      "10    57.3\n",
      "25    74.2\n",
      "28    72.8\n",
      "11    57.0\n",
      "38    74.4\n",
      "Name: Life expectancy , dtype: float64\n"
     ]
    }
   ],
   "source": [
    "#Check the prediction model and evaluation of the model accuracy \n",
    "depY_predict=MLR.predict(indepX_test)\n",
    "print(depY_predict)\n",
    "print(depY_test)"
   ]
  },
  {
   "cell_type": "code",
   "execution_count": null,
   "metadata": {},
   "outputs": [],
   "source": []
  },
  {
   "cell_type": "code",
   "execution_count": null,
   "metadata": {},
   "outputs": [],
   "source": []
  }
 ],
 "metadata": {
  "kernelspec": {
   "display_name": "Python 3",
   "language": "python",
   "name": "python3"
  },
  "language_info": {
   "codemirror_mode": {
    "name": "ipython",
    "version": 3
   },
   "file_extension": ".py",
   "mimetype": "text/x-python",
   "name": "python",
   "nbconvert_exporter": "python",
   "pygments_lexer": "ipython3",
   "version": "3.7.1"
  }
 },
 "nbformat": 4,
 "nbformat_minor": 2
}

{
 "cells": [
  {
   "cell_type": "markdown",
   "metadata": {},
   "source": [
    "# Lineal Reagression for the prediction of house prices"
   ]
  },
  {
   "cell_type": "markdown",
   "metadata": {},
   "source": [
    "## Installing the basic libraries to work with data"
   ]
  },
  {
   "cell_type": "code",
   "execution_count": 1,
   "metadata": {},
   "outputs": [],
   "source": [
    "import pandas as pd\n",
    "import numpy as np\n",
    "import matplotlib.pyplot as plt\n",
    "import pdb"
   ]
  },
  {
   "cell_type": "markdown",
   "metadata": {},
   "source": [
    "### Opening the dataset of the house size and price"
   ]
  },
  {
   "cell_type": "code",
   "execution_count": 2,
   "metadata": {
    "scrolled": true
   },
   "outputs": [
    {
     "name": "stdout",
     "output_type": "stream",
     "text": [
      "    Size(Sq. Ft)   Price\n",
      "0            477   50367\n",
      "1            496   61683\n",
      "2            524   63517\n",
      "3            571   63755\n",
      "4            770   66702\n",
      "5            785   74219\n",
      "6            795   79334\n",
      "7            796   86903\n",
      "8            826   89792\n",
      "9            834  103661\n",
      "10           908  103818\n",
      "11           909  114935\n",
      "12           968  118364\n",
      "13           972  118525\n",
      "14          1049  125973\n",
      "15          1399  130772\n",
      "16          1560  135628\n",
      "17          1589  157694\n",
      "18          1773  158000\n",
      "19          1773  159783\n",
      "20          1830  163317\n",
      "21          1941  166568\n",
      "22          2116  175962\n",
      "23          2131  176490\n",
      "24          2190  176554\n",
      "25          2227  183504\n",
      "26          2273  189318\n",
      "27          2353  193021\n",
      "28          2373  228260\n",
      "29          2463  248586\n",
      "30          2520  260935\n",
      "31          2563  267310\n",
      "32          2688  282501\n",
      "33          2739  284099\n",
      "34          2765  285320\n",
      "35          2835  287325\n",
      "36          2916  308882\n",
      "37          2946  312044\n",
      "38          3102  318194\n",
      "39          3117  332981\n",
      "40          3370  336662\n",
      "41          3442  355849\n",
      "42          3443  364882\n",
      "43          3444  376641\n",
      "44          3470  396270\n",
      "45          3578  402892\n",
      "46          3595  421645\n",
      "47          3644  431609\n",
      "48          3931  439039\n",
      "49          3970  443719\n"
     ]
    }
   ],
   "source": [
    "dataset=pd.read_csv(r\"Housing_Data.csv\")\n",
    "print(dataset)"
   ]
  },
  {
   "cell_type": "code",
   "execution_count": 3,
   "metadata": {},
   "outputs": [],
   "source": [
    "indepX=dataset.iloc[:,[0]].values #Assigning size of the house as an independent x variable\n",
    "depY=dataset.iloc[:,[1]].values #Assigning price of the house as an dependent y variable"
   ]
  },
  {
   "cell_type": "markdown",
   "metadata": {},
   "source": [
    "## Transformation and skalling data to make its more customice to understand "
   ]
  },
  {
   "cell_type": "code",
   "execution_count": 4,
   "metadata": {
    "collapsed": true
   },
   "outputs": [
    {
     "name": "stderr",
     "output_type": "stream",
     "text": [
      "C:\\Users\\Anna\\Anaconda3\\lib\\site-packages\\sklearn\\utils\\validation.py:595: DataConversionWarning: Data with input dtype int64 was converted to float64 by StandardScaler.\n",
      "  warnings.warn(msg, DataConversionWarning)\n",
      "C:\\Users\\Anna\\Anaconda3\\lib\\site-packages\\sklearn\\utils\\validation.py:595: DataConversionWarning: Data with input dtype int64 was converted to float64 by StandardScaler.\n",
      "  warnings.warn(msg, DataConversionWarning)\n",
      "C:\\Users\\Anna\\Anaconda3\\lib\\site-packages\\sklearn\\utils\\validation.py:595: DataConversionWarning: Data with input dtype int64 was converted to float64 by StandardScaler.\n",
      "  warnings.warn(msg, DataConversionWarning)\n",
      "C:\\Users\\Anna\\Anaconda3\\lib\\site-packages\\sklearn\\utils\\validation.py:595: DataConversionWarning: Data with input dtype int64 was converted to float64 by StandardScaler.\n",
      "  warnings.warn(msg, DataConversionWarning)\n"
     ]
    }
   ],
   "source": [
    "from sklearn.preprocessing import StandardScaler\n",
    "scale=StandardScaler()\n",
    "indepX=scale.fit_transform(indepX)\n",
    "depY=scale.fit_transform(depY)\n",
    "from sklearn.model_selection import train_test_split\n",
    "indepX_train, indepX_test, depY_train, depY_test = train_test_split(indepX, depY, test_size = 0.3, random_state = 42)\n"
   ]
  },
  {
   "cell_type": "markdown",
   "metadata": {},
   "source": [
    "### LOOK AT THIS SCALLING"
   ]
  },
  {
   "cell_type": "code",
   "execution_count": 30,
   "metadata": {},
   "outputs": [
    {
     "name": "stdout",
     "output_type": "stream",
     "text": [
      "[217476.08]\n",
      "[[-1.84278516 -1.84278516]]\n"
     ]
    }
   ],
   "source": [
    "print(scale.mean_)\n",
    "#print(scale.transform(dataset))\n",
    "print(scale.transform([[2, 2]])) #looking max and min of dataset points while transforming it"
   ]
  },
  {
   "cell_type": "code",
   "execution_count": 6,
   "metadata": {
    "scrolled": true
   },
   "outputs": [
    {
     "name": "stderr",
     "output_type": "stream",
     "text": [
      "C:\\Users\\Anna\\Anaconda3\\lib\\site-packages\\sklearn\\linear_model\\stochastic_gradient.py:183: FutureWarning: max_iter and tol parameters have been added in SGDRegressor in 0.19. If max_iter is set but tol is left unset, the default value for tol in 0.19 and 0.20 will be None (which is equivalent to -infinity, so it has no effect) but will change in 0.21 to 1e-3. Specify tol to silence this warning.\n",
      "  FutureWarning)\n"
     ]
    },
    {
     "data": {
      "text/plain": [
       "SGDRegressor(alpha=0.0001, average=False, early_stopping=False, epsilon=0.1,\n",
       "       eta0=0.01, fit_intercept=True, l1_ratio=0.15,\n",
       "       learning_rate='optimal', loss='squared_loss', max_iter=100,\n",
       "       n_iter=None, n_iter_no_change=5, penalty='l2', power_t=0.25,\n",
       "       random_state=None, shuffle=True, tol=None, validation_fraction=0.1,\n",
       "       verbose=0, warm_start=False)"
      ]
     },
     "execution_count": 6,
     "metadata": {},
     "output_type": "execute_result"
    }
   ],
   "source": [
    "from sklearn.linear_model import SGDRegressor\n",
    "SLR = SGDRegressor(max_iter = 100, shuffle = True, learning_rate='optimal')\n",
    "depY_train = np.ravel(depY_train)\n",
    "SLR.fit(indepX_train, depY_train)"
   ]
  },
  {
   "cell_type": "code",
   "execution_count": 7,
   "metadata": {},
   "outputs": [],
   "source": [
    "#Hypothesis function\n",
    "def hyp(theta,x):\n",
    "    return theta[0]+theta[1]*x\n",
    "    "
   ]
  },
  {
   "cell_type": "code",
   "execution_count": 8,
   "metadata": {},
   "outputs": [],
   "source": [
    "#Error function\n",
    "def errorFun(theta,indepX,depY):\n",
    "    m=len(indepX)\n",
    "    error=0\n",
    "    for i in range(m):\n",
    "        x=indepX[i]\n",
    "        y=depY[i]\n",
    "        error+=(y-(theta[1])*x+theta[0])**2\n",
    "    return error/(2*m)"
   ]
  },
  {
   "cell_type": "code",
   "execution_count": 9,
   "metadata": {},
   "outputs": [],
   "source": [
    "#Gradient Descend\n",
    "def gradientDescent(indepX_train,depY_train,init_theta,learning_rate,num_iterations):\n",
    "    theta=init_theta\n",
    "    J=[0 for i in range(num_iterations)]\n",
    "    for i in range(num_iterations):\n",
    "        theta=grad(indepX,depY,theta,learning_rate)\n",
    "        J[i]=errorFun(theta,indepX,depY)\n",
    "    return theta,J"
   ]
  },
  {
   "cell_type": "code",
   "execution_count": 19,
   "metadata": {},
   "outputs": [],
   "source": [
    "#Gradient/Del function\n",
    "\n",
    "\n",
    "def grad(indepX, depY, curr_theta, learning_rate):\n",
    "#     pdb.set_trace()  for debugging process \n",
    "    # Initialization\n",
    "    grad = np.zeros(2)\n",
    "    new_theta = curr_theta\n",
    "    m = len(indepX)\n",
    "    \n",
    "    for i in range(m):\n",
    "        x=indepX[i]\n",
    "        y=depY[i]\n",
    "        grad[0]+=(-1/m)*(y-(curr_theta[0]+(curr_theta[1]*x)))\n",
    "        grad[1]+=(-1/m)*x*(y-(curr_theta[0]+(curr_theta[1]*x)))\n",
    "    temp0=curr_theta[0]-(learning_rate*grad[0])\n",
    "    temp1=curr_theta[1]-(learning_rate*grad[1])\n",
    "    new_theta[0]=temp0\n",
    "    new_theta[1]=temp1\n",
    "    \n",
    "    return new_theta\n",
    "    \n",
    "    "
   ]
  },
  {
   "cell_type": "code",
   "execution_count": 28,
   "metadata": {},
   "outputs": [],
   "source": [
    "def main():\n",
    "    init_theta=np.zeros(2)\n",
    "    learning_rate=0.2\n",
    "    num_iterations=100\n",
    "    H =[i for i in (indepX_train)]\n",
    "    for i in range(len(depY_test)):\n",
    "        print(float (H[i]) )\n",
    "        print(depY_train[i])\n",
    "        print(\"-----------------------------------------------\")\n",
    "    theta, J = gradientDescent(indepX_train,depY_train,init_theta,learning_rate,num_iterations)\n",
    "    J[i]=errorFun(theta,indepX,depY)\n",
    "    H=hyp(theta,indepX_train)\n",
    "    \n",
    "    \n",
    "    #Visualizaion\n",
    "    plt.scatter(indepX_train, depY_train,color=\"red\")\n",
    "    plt.plot(indepX_train, H ,color=\"blue\")\n",
    "    plt.title(\"Size&Price\")\n",
    "    plt.xlabel(\"size\")\n",
    "    plt.ylabel(\"price\")\n",
    "    plt.show()\n",
    "   #Visualization J\n",
    "    plt.plot(J ,color=\"green\")\n",
    "    plt.title(\"Iterations and Cost function\")\n",
    "    plt.xlabel(\"Iterations\")\n",
    "    plt.ylabel(\"Cost Function\")\n",
    "    plt.show()"
   ]
  },
  {
   "cell_type": "code",
   "execution_count": 29,
   "metadata": {},
   "outputs": [
    {
     "name": "stdout",
     "output_type": "stream",
     "text": [
      "-1.2425561598768262\n",
      "-1.170558691884612\n",
      "-----------------------------------------------\n",
      "1.249183226472936\n",
      "1.1725147343043778\n",
      "-----------------------------------------------\n",
      "1.3932089635758877\n",
      "1.7300427496002233\n",
      "-----------------------------------------------\n",
      "1.4393348532363104\n",
      "1.8144735530595189\n",
      "-----------------------------------------------\n",
      "-0.673983968960598\n",
      "-0.7346944136490398\n",
      "-----------------------------------------------\n",
      "-1.2058437170858778\n",
      "-0.9644217834387788\n",
      "-----------------------------------------------\n",
      "-0.5224274743620669\n",
      "-0.6935466836612498\n",
      "-----------------------------------------------\n",
      "0.07061967841479377\n",
      "-0.34675673360352927\n",
      "-----------------------------------------------\n",
      "0.6118928734095476\n",
      "0.5748812400068414\n",
      "-----------------------------------------------\n",
      "0.4217412466461732\n",
      "0.4222719696031971\n",
      "-----------------------------------------------\n",
      "-1.5419037703260987\n",
      "-1.4160130359036216\n",
      "-----------------------------------------------\n",
      "1.275540877707463\n",
      "1.5150255238094141\n",
      "-----------------------------------------------\n",
      "0.22405886238721964\n",
      "-0.20722220524501675\n",
      "-----------------------------------------------\n",
      "0.5874179115489152\n",
      "0.564534992413124\n",
      "-----------------------------------------------\n",
      "-1.2519696067463002\n",
      "-1.2139010804528874\n",
      "-----------------------------------------------\n"
     ]
    },
    {
     "data": {
      "image/png": "[encoded data removed]",
      "text/plain": [
       "<Figure size 432x288 with 1 Axes>"
      ]
     },
     "metadata": {
      "needs_background": "light"
     },
     "output_type": "display_data"
    },
    {
     "data": {
      "image/png": "[encoded data removed]",
      "text/plain": [
       "<Figure size 432x288 with 1 Axes>"
      ]
     },
     "metadata": {
      "needs_background": "light"
     },
     "output_type": "display_data"
    }
   ],
   "source": [
    "if __name__==\"__main__\":\n",
    "    main()"
   ]
  },
  {
   "cell_type": "code",
   "execution_count": null,
   "metadata": {
    "scrolled": true
   },
   "outputs": [],
   "source": []
  },
  {
   "cell_type": "code",
   "execution_count": null,
   "metadata": {},
   "outputs": [],
   "source": []
  }
 ],
 "metadata": {
  "kernelspec": {
   "display_name": "Python 3",
   "language": "python",
   "name": "python3"
  },
  "language_info": {
   "codemirror_mode": {
    "name": "ipython",
    "version": 3
   },
   "file_extension": ".py",
   "mimetype": "text/x-python",
   "name": "python",
   "nbconvert_exporter": "python",
   "pygments_lexer": "ipython3",
   "version": "3.7.1"
  }
 },
 "nbformat": 4,
 "nbformat_minor": 2
}
